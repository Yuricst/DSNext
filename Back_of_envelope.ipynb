{
 "cells": [
  {
   "cell_type": "markdown",
   "metadata": {},
   "source": [
    "# DSNext concept\n",
    "\n",
    "Extend DSN by having interplanetary replay station"
   ]
  },
  {
   "cell_type": "code",
   "execution_count": 45,
   "metadata": {},
   "outputs": [],
   "source": [
    "import numpy as np\n",
    "from scipy.integrate import ode\n",
    "\n",
    "\n",
    "# propagator from poliastro\n",
    "# https://poliastro.readthedocs.io/en/stable/api/safe/twobody/propagation.html\n",
    "import poliastro\n",
    "#from poliastro.twobody.propagation import cowell"
   ]
  },
  {
   "cell_type": "code",
   "execution_count": 46,
   "metadata": {},
   "outputs": [],
   "source": [
    "# sun gravitational parameter\n",
    "mu = 132712000000\n",
    "au2km = 149597871"
   ]
  },
  {
   "cell_type": "code",
   "execution_count": 47,
   "metadata": {},
   "outputs": [
    {
     "name": "stdout",
     "output_type": "stream",
     "text": [
      "Earth initial vector: e6*[149.597871   0.         0.      ] [km], \n",
      "                         [ 0.         29.78464243  0.        ] [km/s]\n"
     ]
    }
   ],
   "source": [
    "# assume circular orbits for earth and mars\n",
    "# Earth ephemeris\n",
    "def Earth(param):\n",
    "    \"\"\"Function returns ephemeris value prompted, as defined by GTOC4 problem statement\n",
    "    Args:\n",
    "        param (str): orbital parameter to be fetched\n",
    "            a: semi-major axis [AU]\n",
    "            e: eccentricity\n",
    "            i: inclination [deg]\n",
    "            LAN: longitude of ascendig node [deg]\n",
    "            omega: argument of periapsis [deg]\n",
    "            M0: mean anomaly [deg]\n",
    "            t: Epoch at which these elements are defined [MJD]\n",
    "    Returns:\n",
    "        (float): value of prompted parameter\n",
    "    \"\"\"\n",
    "    if param == 'a':\n",
    "        retval = 1   #0.999988049532578\n",
    "    elif param == 'e':\n",
    "        retval = 0\n",
    "    elif param == 'i':\n",
    "        retval = 0\n",
    "    elif param == 'LAN':\n",
    "        retval = 0\n",
    "    elif param == 'omega':\n",
    "        retval = 0\n",
    "    elif param == 'M0':\n",
    "        retval = 0\n",
    "    elif param == 't':\n",
    "        retval = 54000\n",
    "    else:\n",
    "        print('function parameter is invalid')\n",
    "        return None\n",
    "    return retval\n",
    "\n",
    "# Earth state-vector - FIXME!!\n",
    "vp = np.sqrt(mu/(Earth('a')*au2km))\n",
    "Earth_r0 = np.array([Earth('a')*au2km, 0, 0])\n",
    "Earth_v0 = np.array([0, vp, 0])\n",
    "print(f'Earth initial vector: e6*{Earth_r0/10**6} [km], \\n                         {Earth_v0} [km/s]')"
   ]
  },
  {
   "cell_type": "code",
   "execution_count": 48,
   "metadata": {},
   "outputs": [
    {
     "name": "stdout",
     "output_type": "stream",
     "text": [
      "Mars initial vector: e6*[227.9871554   0.          0.       ] [km], \n",
      "                        [ 0.         24.12681017  0.        ] [km/s]\n"
     ]
    }
   ],
   "source": [
    "# Mars ephemeris\n",
    "def Mars(param):\n",
    "    \"\"\"Function returns ephemeris value prompted for Mars\n",
    "    Args:\n",
    "        param (str): orbital parameter to be fetched\n",
    "            a: semi-major axis [AU]\n",
    "            e: eccentricity\n",
    "            i: inclination [deg]\n",
    "            LAN: longitude of ascendig node [deg]\n",
    "            omega: argument of periapsis [deg]\n",
    "            M0: mean anomaly [deg]\n",
    "            t: Epoch at which these elements are defined [MJD]\n",
    "    Returns:\n",
    "        (float): value of prompted parameter\n",
    "    \"\"\"\n",
    "    if param == 'a':\n",
    "        retval = 1.524\n",
    "    elif param == 'e':\n",
    "        retval = 0\n",
    "    elif param == 'i':\n",
    "        retval = 0\n",
    "    elif param == 'LAN':\n",
    "        retval = 0\n",
    "    elif param == 'omega':\n",
    "        retval = 0\n",
    "    elif param == 'M0':\n",
    "        retval = 0\n",
    "    elif param == 't':\n",
    "        retval = 54000\n",
    "    else:\n",
    "        print('function parameter is invalid')\n",
    "        return None\n",
    "    return retval\n",
    "\n",
    "# Mars state-vector - FIXME!!\n",
    "vp = np.sqrt(mu/(Mars('a')*au2km))\n",
    "Mars_r0 = np.array([Mars('a')*au2km, 0, 0])\n",
    "Mars_v0 = np.array([0, vp, 0])\n",
    "print(f'Mars initial vector: e6*{Mars_r0/10**6} [km], \\n                        {Mars_v0} [km/s]')"
   ]
  },
  {
   "cell_type": "code",
   "execution_count": 62,
   "metadata": {},
   "outputs": [
    {
     "name": "stdout",
     "output_type": "stream",
     "text": [
      "Mars orbital period: 687.1896323987264 days\n",
      "Time step size: 20.61568897196179 days\n"
     ]
    }
   ],
   "source": [
    "# propagate by Cowell's method\n",
    "Mars_P = 2*np.pi*np.sqrt((Mars('a')*au2km)**3/mu) # seconds\n",
    "print(f'Mars orbital period: {Mars_P/(60*60*24)} days')\n",
    "\n",
    "# time step... eventually: [x*(etTwo-etOne)/step + etOne for x in range(step)] BUT MIGHT MESS WITH INTEGRATOR!!!\n",
    "step = 100\n",
    "tofs = np.array([x*(Mars_P*3)/step for x in range(step)])\n",
    "dt = tofs[1] - tofs[0] # time-step\n",
    "print(f'Time step size: {dt/(60*60*24)} days')\n",
    "#Mars_rr, Mars_vv = cowell(mu, Mars_r0, Mars_v0, tofs)\n",
    "#Mars_rr, Mars_vv = poliastro.twobody.propagation.cowell(mu, Mars_r0, Mars_v0, tofs)\n"
   ]
  },
  {
   "cell_type": "code",
   "execution_count": null,
   "metadata": {},
   "outputs": [],
   "source": []
  },
  {
   "cell_type": "code",
   "execution_count": 63,
   "metadata": {},
   "outputs": [
    {
     "ename": "error",
     "evalue": "failed in processing argument list for call-back fcn.",
     "output_type": "error",
     "traceback": [
      "\u001b[1;31m---------------------------------------------------------------------------\u001b[0m",
      "\u001b[1;31merror\u001b[0m                                     Traceback (most recent call last)",
      "\u001b[1;32m<ipython-input-63-055b2a894809>\u001b[0m in \u001b[0;36m<module>\u001b[1;34m\u001b[0m\n\u001b[0;32m     13\u001b[0m \u001b[1;33m\u001b[0m\u001b[0m\n\u001b[0;32m     14\u001b[0m \u001b[1;32mwhile\u001b[0m \u001b[0mrr\u001b[0m\u001b[1;33m.\u001b[0m\u001b[0msuccessful\u001b[0m\u001b[1;33m(\u001b[0m\u001b[1;33m)\u001b[0m \u001b[1;32mand\u001b[0m \u001b[0mrr\u001b[0m\u001b[1;33m.\u001b[0m\u001b[0mt\u001b[0m \u001b[1;33m+\u001b[0m \u001b[0mdt\u001b[0m \u001b[1;33m<\u001b[0m \u001b[0mtofs\u001b[0m\u001b[1;33m[\u001b[0m\u001b[1;33m-\u001b[0m\u001b[1;36m1\u001b[0m\u001b[1;33m]\u001b[0m\u001b[1;33m:\u001b[0m\u001b[1;33m\u001b[0m\u001b[1;33m\u001b[0m\u001b[0m\n\u001b[1;32m---> 15\u001b[1;33m     \u001b[0mrr\u001b[0m\u001b[1;33m.\u001b[0m\u001b[0mintegrate\u001b[0m\u001b[1;33m(\u001b[0m\u001b[0mrr\u001b[0m\u001b[1;33m.\u001b[0m\u001b[0mt\u001b[0m \u001b[1;33m+\u001b[0m \u001b[0mdt\u001b[0m\u001b[1;33m)\u001b[0m\u001b[1;33m\u001b[0m\u001b[1;33m\u001b[0m\u001b[0m\n\u001b[0m\u001b[0;32m     16\u001b[0m     \u001b[0mres\u001b[0m\u001b[1;33m[\u001b[0m\u001b[0mii\u001b[0m\u001b[1;33m]\u001b[0m \u001b[1;33m=\u001b[0m \u001b[0mrr\u001b[0m\u001b[1;33m.\u001b[0m\u001b[0my\u001b[0m\u001b[1;33m\u001b[0m\u001b[1;33m\u001b[0m\u001b[0m\n\u001b[0;32m     17\u001b[0m     \u001b[0mii\u001b[0m \u001b[1;33m+=\u001b[0m \u001b[1;36m1\u001b[0m\u001b[1;33m\u001b[0m\u001b[1;33m\u001b[0m\u001b[0m\n",
      "\u001b[1;32m~\\Anaconda3\\lib\\site-packages\\scipy\\integrate\\_ode.py\u001b[0m in \u001b[0;36mintegrate\u001b[1;34m(self, t, step, relax)\u001b[0m\n\u001b[0;32m    430\u001b[0m             self._y, self.t = mth(self.f, self.jac or (lambda: None),\n\u001b[0;32m    431\u001b[0m                                   \u001b[0mself\u001b[0m\u001b[1;33m.\u001b[0m\u001b[0m_y\u001b[0m\u001b[1;33m,\u001b[0m \u001b[0mself\u001b[0m\u001b[1;33m.\u001b[0m\u001b[0mt\u001b[0m\u001b[1;33m,\u001b[0m \u001b[0mt\u001b[0m\u001b[1;33m,\u001b[0m\u001b[1;33m\u001b[0m\u001b[1;33m\u001b[0m\u001b[0m\n\u001b[1;32m--> 432\u001b[1;33m                                   self.f_params, self.jac_params)\n\u001b[0m\u001b[0;32m    433\u001b[0m         \u001b[1;32mexcept\u001b[0m \u001b[0mSystemError\u001b[0m\u001b[1;33m:\u001b[0m\u001b[1;33m\u001b[0m\u001b[1;33m\u001b[0m\u001b[0m\n\u001b[0;32m    434\u001b[0m             \u001b[1;31m# f2py issue with tuple returns, see ticket 1187.\u001b[0m\u001b[1;33m\u001b[0m\u001b[1;33m\u001b[0m\u001b[1;33m\u001b[0m\u001b[0m\n",
      "\u001b[1;32m~\\Anaconda3\\lib\\site-packages\\scipy\\integrate\\_ode.py\u001b[0m in \u001b[0;36mrun\u001b[1;34m(self, f, jac, y0, t0, t1, f_params, jac_params)\u001b[0m\n\u001b[0;32m   1170\u001b[0m     \u001b[1;32mdef\u001b[0m \u001b[0mrun\u001b[0m\u001b[1;33m(\u001b[0m\u001b[0mself\u001b[0m\u001b[1;33m,\u001b[0m \u001b[0mf\u001b[0m\u001b[1;33m,\u001b[0m \u001b[0mjac\u001b[0m\u001b[1;33m,\u001b[0m \u001b[0my0\u001b[0m\u001b[1;33m,\u001b[0m \u001b[0mt0\u001b[0m\u001b[1;33m,\u001b[0m \u001b[0mt1\u001b[0m\u001b[1;33m,\u001b[0m \u001b[0mf_params\u001b[0m\u001b[1;33m,\u001b[0m \u001b[0mjac_params\u001b[0m\u001b[1;33m)\u001b[0m\u001b[1;33m:\u001b[0m\u001b[1;33m\u001b[0m\u001b[1;33m\u001b[0m\u001b[0m\n\u001b[0;32m   1171\u001b[0m         x, y, iwork, istate = self.runner(*((f, t0, y0, t1) +\n\u001b[1;32m-> 1172\u001b[1;33m                                           tuple(self.call_args) + (f_params,)))\n\u001b[0m\u001b[0;32m   1173\u001b[0m         \u001b[0mself\u001b[0m\u001b[1;33m.\u001b[0m\u001b[0mistate\u001b[0m \u001b[1;33m=\u001b[0m \u001b[0mistate\u001b[0m\u001b[1;33m\u001b[0m\u001b[1;33m\u001b[0m\u001b[0m\n\u001b[0;32m   1174\u001b[0m         \u001b[1;32mif\u001b[0m \u001b[0mistate\u001b[0m \u001b[1;33m<\u001b[0m \u001b[1;36m0\u001b[0m\u001b[1;33m:\u001b[0m\u001b[1;33m\u001b[0m\u001b[1;33m\u001b[0m\u001b[0m\n",
      "\u001b[1;31merror\u001b[0m: failed in processing argument list for call-back fcn."
     ]
    }
   ],
   "source": [
    "from poliastro.twobody.propagation import func_twobody\n",
    "res = np.zeros((tofs.size, 6))\n",
    "u0 = np.concatenate((Mars_r0, Mars_v0), axis=None)\n",
    "\n",
    "res[0] = u0\n",
    "ii = 1\n",
    "\n",
    "accel = 1e-5\n",
    "\n",
    "rr = ode(func_twobody).set_integrator('dop853')  # All parameters by default\n",
    "rr.set_initial_value(u0, tofs[0])\n",
    "rr.set_f_params(mu)#, constant_accel_factory(accel))\n",
    "\n",
    "while rr.successful() and rr.t + dt < tofs[-1]:\n",
    "    rr.integrate(rr.t + dt)\n",
    "    res[ii] = rr.y\n",
    "    ii += 1\n",
    "\n",
    "res[:5]"
   ]
  },
  {
   "cell_type": "code",
   "execution_count": null,
   "metadata": {},
   "outputs": [],
   "source": []
  },
  {
   "cell_type": "code",
   "execution_count": null,
   "metadata": {},
   "outputs": [],
   "source": []
  }
 ],
 "metadata": {
  "kernelspec": {
   "display_name": "Python 3",
   "language": "python",
   "name": "python3"
  },
  "language_info": {
   "codemirror_mode": {
    "name": "ipython",
    "version": 3
   },
   "file_extension": ".py",
   "mimetype": "text/x-python",
   "name": "python",
   "nbconvert_exporter": "python",
   "pygments_lexer": "ipython3",
   "version": "3.7.3"
  }
 },
 "nbformat": 4,
 "nbformat_minor": 2
}
